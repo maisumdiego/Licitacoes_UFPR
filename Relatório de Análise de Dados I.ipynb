{
 "cells": [
  {
   "cell_type": "markdown",
   "id": "19b38993",
   "metadata": {},
   "source": [
    "# Licitações realizadas pela Universidade Federal do Paraná (2014~2020)\n",
    "# Relatório de Análise de Dados I"
   ]
  },
  {
   "cell_type": "markdown",
   "id": "1ee84cdb",
   "metadata": {},
   "source": [
    "## Importando Dados"
   ]
  },
  {
   "cell_type": "code",
   "execution_count": 30,
   "id": "d3c52c82",
   "metadata": {},
   "outputs": [],
   "source": [
    "import pandas as pd"
   ]
  },
  {
   "cell_type": "code",
   "execution_count": 38,
   "id": "d72675ff",
   "metadata": {
    "scrolled": false
   },
   "outputs": [],
   "source": [
    "dados = pd.read_csv('dadosTratados.csv', sep = ';')"
   ]
  },
  {
   "cell_type": "markdown",
   "id": "807709c4",
   "metadata": {},
   "source": [
    "## Número de processos por modalidade"
   ]
  },
  {
   "cell_type": "code",
   "execution_count": 39,
   "id": "13497f08",
   "metadata": {},
   "outputs": [
    {
     "data": {
      "text/html": [
       "<div>\n",
       "<style scoped>\n",
       "    .dataframe tbody tr th:only-of-type {\n",
       "        vertical-align: middle;\n",
       "    }\n",
       "\n",
       "    .dataframe tbody tr th {\n",
       "        vertical-align: top;\n",
       "    }\n",
       "\n",
       "    .dataframe thead th {\n",
       "        text-align: right;\n",
       "    }\n",
       "</style>\n",
       "<table border=\"1\" class=\"dataframe\">\n",
       "  <thead>\n",
       "    <tr style=\"text-align: right;\">\n",
       "      <th></th>\n",
       "      <th>Modalidade de Licitação</th>\n",
       "    </tr>\n",
       "  </thead>\n",
       "  <tbody>\n",
       "    <tr>\n",
       "      <th>Pregão Eletrônico</th>\n",
       "      <td>1200</td>\n",
       "    </tr>\n",
       "    <tr>\n",
       "      <th>Regime Diferenciado de Contratação</th>\n",
       "      <td>61</td>\n",
       "    </tr>\n",
       "    <tr>\n",
       "      <th>Tomada de Preços</th>\n",
       "      <td>53</td>\n",
       "    </tr>\n",
       "    <tr>\n",
       "      <th>Concorrência Pública</th>\n",
       "      <td>39</td>\n",
       "    </tr>\n",
       "    <tr>\n",
       "      <th>Chamada Pública</th>\n",
       "      <td>4</td>\n",
       "    </tr>\n",
       "    <tr>\n",
       "      <th>Credenciamento</th>\n",
       "      <td>3</td>\n",
       "    </tr>\n",
       "  </tbody>\n",
       "</table>\n",
       "</div>"
      ],
      "text/plain": [
       "                                    Modalidade de Licitação\n",
       "Pregão Eletrônico                                      1200\n",
       "Regime Diferenciado de Contratação                       61\n",
       "Tomada de Preços                                         53\n",
       "Concorrência Pública                                     39\n",
       "Chamada Pública                                           4\n",
       "Credenciamento                                            3"
      ]
     },
     "execution_count": 39,
     "metadata": {},
     "output_type": "execute_result"
    }
   ],
   "source": [
    "pd.DataFrame(dados['Modalidade de Licitação'].value_counts())"
   ]
  },
  {
   "cell_type": "markdown",
   "id": "3c7ecff7",
   "metadata": {},
   "source": [
    "## Números de processos por situação"
   ]
  },
  {
   "cell_type": "code",
   "execution_count": 40,
   "id": "309e338e",
   "metadata": {},
   "outputs": [
    {
     "data": {
      "text/html": [
       "<div>\n",
       "<style scoped>\n",
       "    .dataframe tbody tr th:only-of-type {\n",
       "        vertical-align: middle;\n",
       "    }\n",
       "\n",
       "    .dataframe tbody tr th {\n",
       "        vertical-align: top;\n",
       "    }\n",
       "\n",
       "    .dataframe thead th {\n",
       "        text-align: right;\n",
       "    }\n",
       "</style>\n",
       "<table border=\"1\" class=\"dataframe\">\n",
       "  <thead>\n",
       "    <tr style=\"text-align: right;\">\n",
       "      <th></th>\n",
       "      <th>Situação</th>\n",
       "    </tr>\n",
       "  </thead>\n",
       "  <tbody>\n",
       "    <tr>\n",
       "      <th>Homologado</th>\n",
       "      <td>1044</td>\n",
       "    </tr>\n",
       "    <tr>\n",
       "      <th>Fase Interna</th>\n",
       "      <td>84</td>\n",
       "    </tr>\n",
       "    <tr>\n",
       "      <th>Fracassado</th>\n",
       "      <td>51</td>\n",
       "    </tr>\n",
       "    <tr>\n",
       "      <th>Deserto</th>\n",
       "      <td>41</td>\n",
       "    </tr>\n",
       "    <tr>\n",
       "      <th>Verificação de conformidade</th>\n",
       "      <td>33</td>\n",
       "    </tr>\n",
       "    <tr>\n",
       "      <th>Cancelado</th>\n",
       "      <td>31</td>\n",
       "    </tr>\n",
       "    <tr>\n",
       "      <th>Suspenso</th>\n",
       "      <td>21</td>\n",
       "    </tr>\n",
       "    <tr>\n",
       "      <th>Em Andamento</th>\n",
       "      <td>13</td>\n",
       "    </tr>\n",
       "    <tr>\n",
       "      <th>Revogado</th>\n",
       "      <td>13</td>\n",
       "    </tr>\n",
       "    <tr>\n",
       "      <th>Anulado</th>\n",
       "      <td>8</td>\n",
       "    </tr>\n",
       "    <tr>\n",
       "      <th>Aguarda Abertura</th>\n",
       "      <td>7</td>\n",
       "    </tr>\n",
       "    <tr>\n",
       "      <th>Elaboração do Edital</th>\n",
       "      <td>5</td>\n",
       "    </tr>\n",
       "    <tr>\n",
       "      <th>Aceitação</th>\n",
       "      <td>4</td>\n",
       "    </tr>\n",
       "    <tr>\n",
       "      <th>IRP</th>\n",
       "      <td>3</td>\n",
       "    </tr>\n",
       "    <tr>\n",
       "      <th>Parecer Jurídico</th>\n",
       "      <td>2</td>\n",
       "    </tr>\n",
       "  </tbody>\n",
       "</table>\n",
       "</div>"
      ],
      "text/plain": [
       "                             Situação\n",
       "Homologado                       1044\n",
       "Fase Interna                       84\n",
       "Fracassado                         51\n",
       "Deserto                            41\n",
       "Verificação de conformidade        33\n",
       "Cancelado                          31\n",
       "Suspenso                           21\n",
       "Em Andamento                       13\n",
       "Revogado                           13\n",
       "Anulado                             8\n",
       "Aguarda Abertura                    7\n",
       "Elaboração do Edital                5\n",
       "Aceitação                           4\n",
       "IRP                                 3\n",
       "Parecer Jurídico                    2"
      ]
     },
     "execution_count": 40,
     "metadata": {},
     "output_type": "execute_result"
    }
   ],
   "source": [
    "pd.DataFrame(dados['Situação'].value_counts())"
   ]
  },
  {
   "cell_type": "markdown",
   "id": "722598fe",
   "metadata": {},
   "source": [
    "## Diferença Valor Homologado Contrado/Estimado e Licitação Homologada Vantajosa"
   ]
  },
  {
   "cell_type": "code",
   "execution_count": 42,
   "id": "56b2e59b",
   "metadata": {},
   "outputs": [],
   "source": [
    "dados['Diferença Contratado/Estimado'] = dados['Valor Contratado UFPR'] - dados['Valor Estimado UFPR']\n",
    "dados['Vantagem'] = dados['Diferença Contratado/Estimado'] <= 0"
   ]
  },
  {
   "cell_type": "code",
   "execution_count": 43,
   "id": "40c02432",
   "metadata": {
    "scrolled": true
   },
   "outputs": [
    {
     "data": {
      "text/html": [
       "<div>\n",
       "<style scoped>\n",
       "    .dataframe tbody tr th:only-of-type {\n",
       "        vertical-align: middle;\n",
       "    }\n",
       "\n",
       "    .dataframe tbody tr th {\n",
       "        vertical-align: top;\n",
       "    }\n",
       "\n",
       "    .dataframe thead th {\n",
       "        text-align: right;\n",
       "    }\n",
       "</style>\n",
       "<table border=\"1\" class=\"dataframe\">\n",
       "  <thead>\n",
       "    <tr style=\"text-align: right;\">\n",
       "      <th></th>\n",
       "      <th>Modalidade de Licitação</th>\n",
       "      <th>Situação</th>\n",
       "      <th>Valor Estimado UFPR</th>\n",
       "      <th>Valor Contratado UFPR</th>\n",
       "      <th>Diferença Contratado/Estimado</th>\n",
       "      <th>Vantagem</th>\n",
       "    </tr>\n",
       "  </thead>\n",
       "  <tbody>\n",
       "    <tr>\n",
       "      <th>0</th>\n",
       "      <td>Concorrência Pública</td>\n",
       "      <td>Homologado</td>\n",
       "      <td>0.00</td>\n",
       "      <td>0.00</td>\n",
       "      <td>0.00</td>\n",
       "      <td>True</td>\n",
       "    </tr>\n",
       "    <tr>\n",
       "      <th>1</th>\n",
       "      <td>Concorrência Pública</td>\n",
       "      <td>Homologado</td>\n",
       "      <td>1750.00</td>\n",
       "      <td>2603.25</td>\n",
       "      <td>853.25</td>\n",
       "      <td>False</td>\n",
       "    </tr>\n",
       "    <tr>\n",
       "      <th>2</th>\n",
       "      <td>Concorrência Pública</td>\n",
       "      <td>Homologado</td>\n",
       "      <td>1290.68</td>\n",
       "      <td>1511.91</td>\n",
       "      <td>221.23</td>\n",
       "      <td>False</td>\n",
       "    </tr>\n",
       "    <tr>\n",
       "      <th>3</th>\n",
       "      <td>Concorrência Pública</td>\n",
       "      <td>Homologado</td>\n",
       "      <td>1569.14</td>\n",
       "      <td>7700.00</td>\n",
       "      <td>6130.86</td>\n",
       "      <td>False</td>\n",
       "    </tr>\n",
       "    <tr>\n",
       "      <th>4</th>\n",
       "      <td>Pregão Eletrônico</td>\n",
       "      <td>Homologado</td>\n",
       "      <td>286235.50</td>\n",
       "      <td>280600.20</td>\n",
       "      <td>-5635.30</td>\n",
       "      <td>True</td>\n",
       "    </tr>\n",
       "  </tbody>\n",
       "</table>\n",
       "</div>"
      ],
      "text/plain": [
       "  Modalidade de Licitação    Situação  Valor Estimado UFPR  \\\n",
       "0    Concorrência Pública  Homologado                 0.00   \n",
       "1    Concorrência Pública  Homologado              1750.00   \n",
       "2    Concorrência Pública  Homologado              1290.68   \n",
       "3    Concorrência Pública  Homologado              1569.14   \n",
       "4       Pregão Eletrônico  Homologado            286235.50   \n",
       "\n",
       "   Valor Contratado UFPR  Diferença Contratado/Estimado  Vantagem  \n",
       "0                   0.00                           0.00      True  \n",
       "1                2603.25                         853.25     False  \n",
       "2                1511.91                         221.23     False  \n",
       "3                7700.00                        6130.86     False  \n",
       "4              280600.20                       -5635.30      True  "
      ]
     },
     "execution_count": 43,
     "metadata": {},
     "output_type": "execute_result"
    }
   ],
   "source": [
    "\n",
    "tabelaDiferenca = dados[dados['Situação'] == 'Homologado'][['Modalidade de Licitação','Situação','Valor Estimado UFPR', \n",
    "                                                            'Valor Contratado UFPR','Diferença Contratado/Estimado', \n",
    "                                                            'Vantagem']]\n",
    "tabelaDiferenca.index = range(tabelaDiferenca.shape[0])\n",
    "tabelaDiferenca.head(5)"
   ]
  },
  {
   "cell_type": "markdown",
   "id": "992b35a3",
   "metadata": {},
   "source": [
    "## Valor Médio por Modalidade de Licitação"
   ]
  },
  {
   "cell_type": "code",
   "execution_count": 44,
   "id": "0c38b7c7",
   "metadata": {},
   "outputs": [
    {
     "data": {
      "text/html": [
       "<div>\n",
       "<style scoped>\n",
       "    .dataframe tbody tr th:only-of-type {\n",
       "        vertical-align: middle;\n",
       "    }\n",
       "\n",
       "    .dataframe tbody tr th {\n",
       "        vertical-align: top;\n",
       "    }\n",
       "\n",
       "    .dataframe thead th {\n",
       "        text-align: right;\n",
       "    }\n",
       "</style>\n",
       "<table border=\"1\" class=\"dataframe\">\n",
       "  <thead>\n",
       "    <tr style=\"text-align: right;\">\n",
       "      <th></th>\n",
       "      <th>Valor médio homologado</th>\n",
       "    </tr>\n",
       "    <tr>\n",
       "      <th>Modalidade de Licitação</th>\n",
       "      <th></th>\n",
       "    </tr>\n",
       "  </thead>\n",
       "  <tbody>\n",
       "    <tr>\n",
       "      <th>Chamada Pública</th>\n",
       "      <td>0.00</td>\n",
       "    </tr>\n",
       "    <tr>\n",
       "      <th>Concorrência Pública</th>\n",
       "      <td>73117.39</td>\n",
       "    </tr>\n",
       "    <tr>\n",
       "      <th>Credenciamento</th>\n",
       "      <td>14844.00</td>\n",
       "    </tr>\n",
       "    <tr>\n",
       "      <th>Pregão Eletrônico</th>\n",
       "      <td>607840.12</td>\n",
       "    </tr>\n",
       "    <tr>\n",
       "      <th>Regime Diferenciado de Contratação</th>\n",
       "      <td>879311.33</td>\n",
       "    </tr>\n",
       "    <tr>\n",
       "      <th>Tomada de Preços</th>\n",
       "      <td>179864.97</td>\n",
       "    </tr>\n",
       "  </tbody>\n",
       "</table>\n",
       "</div>"
      ],
      "text/plain": [
       "                                    Valor médio homologado\n",
       "Modalidade de Licitação                                   \n",
       "Chamada Pública                                       0.00\n",
       "Concorrência Pública                              73117.39\n",
       "Credenciamento                                    14844.00\n",
       "Pregão Eletrônico                                607840.12\n",
       "Regime Diferenciado de Contratação               879311.33\n",
       "Tomada de Preços                                 179864.97"
      ]
     },
     "execution_count": 44,
     "metadata": {},
     "output_type": "execute_result"
    }
   ],
   "source": [
    "agrupamento = tabelaDiferenca.groupby('Modalidade de Licitação')\n",
    "pd.DataFrame(agrupamento['Valor Contratado UFPR'].mean().round(2)).rename(columns = {'Valor Contratado UFPR': 'Valor médio homologado'})"
   ]
  },
  {
   "cell_type": "code",
   "execution_count": null,
   "id": "82090e2b",
   "metadata": {},
   "outputs": [],
   "source": []
  }
 ],
 "metadata": {
  "kernelspec": {
   "display_name": "Python 3",
   "language": "python",
   "name": "python3"
  },
  "language_info": {
   "codemirror_mode": {
    "name": "ipython",
    "version": 3
   },
   "file_extension": ".py",
   "mimetype": "text/x-python",
   "name": "python",
   "nbconvert_exporter": "python",
   "pygments_lexer": "ipython3",
   "version": "3.8.8"
  }
 },
 "nbformat": 4,
 "nbformat_minor": 5
}
