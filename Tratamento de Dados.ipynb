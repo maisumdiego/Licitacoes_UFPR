{
 "cells": [
  {
   "cell_type": "markdown",
   "id": "f48e8b34",
   "metadata": {},
   "source": [
    "# Licitações realizadas pela Universidade Federal do Paraná (2014~2020)\n",
    "# Tratamento de dados"
   ]
  },
  {
   "cell_type": "markdown",
   "id": "072eda9f",
   "metadata": {},
   "source": [
    "## Importando a base de dados (disponível em dados.gov)"
   ]
  },
  {
   "cell_type": "code",
   "execution_count": 120,
   "id": "e163e65b",
   "metadata": {},
   "outputs": [],
   "source": [
    "import pandas as pd\n",
    "from glob import glob\n",
    "import locale"
   ]
  },
  {
   "cell_type": "code",
   "execution_count": 121,
   "id": "31f733c7",
   "metadata": {},
   "outputs": [
    {
     "data": {
      "text/plain": [
       "'pt_BR.UTF-8'"
      ]
     },
     "execution_count": 121,
     "metadata": {},
     "output_type": "execute_result"
    }
   ],
   "source": [
    "locale.setlocale(locale.LC_ALL, 'pt_BR.UTF-8')"
   ]
  },
  {
   "cell_type": "code",
   "execution_count": 122,
   "id": "184e09a8",
   "metadata": {},
   "outputs": [],
   "source": [
    "arquivos = sorted(glob('BaseDados/financeiro_licit_20*.csv'))\n",
    "dados = pd.concat((pd.read_csv(arquivo,  sep = ';', encoding = 'latin-1') for arquivo in arquivos), ignore_index=True)"
   ]
  },
  {
   "cell_type": "code",
   "execution_count": 123,
   "id": "8e6aaa0b",
   "metadata": {
    "scrolled": false
   },
   "outputs": [
    {
     "data": {
      "text/html": [
       "<div>\n",
       "<style scoped>\n",
       "    .dataframe tbody tr th:only-of-type {\n",
       "        vertical-align: middle;\n",
       "    }\n",
       "\n",
       "    .dataframe tbody tr th {\n",
       "        vertical-align: top;\n",
       "    }\n",
       "\n",
       "    .dataframe thead th {\n",
       "        text-align: right;\n",
       "    }\n",
       "</style>\n",
       "<table border=\"1\" class=\"dataframe\">\n",
       "  <thead>\n",
       "    <tr style=\"text-align: right;\">\n",
       "      <th></th>\n",
       "      <th>Ano</th>\n",
       "      <th>Modalidade de Licitação</th>\n",
       "      <th>Número/Ano</th>\n",
       "      <th>Processo</th>\n",
       "      <th>Situação</th>\n",
       "      <th>Objeto</th>\n",
       "      <th>Natureza do Objeto</th>\n",
       "      <th>Demandante</th>\n",
       "      <th>Modalidade de Compra</th>\n",
       "      <th>Homologação (mês)</th>\n",
       "      <th>Valor Estimado UFPR</th>\n",
       "      <th>Valor Estimado Outros Órgãos</th>\n",
       "      <th>Valor Contratado UFPR</th>\n",
       "      <th>Valor Contratado Outros Órgãos</th>\n",
       "    </tr>\n",
       "  </thead>\n",
       "  <tbody>\n",
       "    <tr>\n",
       "      <th>0</th>\n",
       "      <td>2014</td>\n",
       "      <td>Chamada Pública</td>\n",
       "      <td>001/2014</td>\n",
       "      <td>023625/2014-85</td>\n",
       "      <td>Em Andamento</td>\n",
       "      <td>Realização de Eventos (propriedade industrial)...</td>\n",
       "      <td>NaN</td>\n",
       "      <td>AGITEC</td>\n",
       "      <td>NaN</td>\n",
       "      <td>NaN</td>\n",
       "      <td>0,00</td>\n",
       "      <td>0,00</td>\n",
       "      <td>0,00</td>\n",
       "      <td>0,00</td>\n",
       "    </tr>\n",
       "    <tr>\n",
       "      <th>1</th>\n",
       "      <td>2014</td>\n",
       "      <td>Concorrência Pública</td>\n",
       "      <td>001/2014</td>\n",
       "      <td>047629/2013-78</td>\n",
       "      <td>Fracassado</td>\n",
       "      <td>Concessão de uso de espaço físico, cantina do ...</td>\n",
       "      <td>NaN</td>\n",
       "      <td>SEPT</td>\n",
       "      <td>NaN</td>\n",
       "      <td>NaN</td>\n",
       "      <td>0,00</td>\n",
       "      <td>0,00</td>\n",
       "      <td>0,00</td>\n",
       "      <td>0,00</td>\n",
       "    </tr>\n",
       "    <tr>\n",
       "      <th>2</th>\n",
       "      <td>2014</td>\n",
       "      <td>Concorrência Pública</td>\n",
       "      <td>002/2014</td>\n",
       "      <td>048559/2013-75</td>\n",
       "      <td>Fracassado</td>\n",
       "      <td>Concessão de uso de espaço para funcionamento ...</td>\n",
       "      <td>NaN</td>\n",
       "      <td>SACOD</td>\n",
       "      <td>Contrato</td>\n",
       "      <td>NaN</td>\n",
       "      <td>0,00</td>\n",
       "      <td>0,00</td>\n",
       "      <td>0,00</td>\n",
       "      <td>0,00</td>\n",
       "    </tr>\n",
       "    <tr>\n",
       "      <th>3</th>\n",
       "      <td>2014</td>\n",
       "      <td>Concorrência Pública</td>\n",
       "      <td>003/2014</td>\n",
       "      <td>052161/2013-33</td>\n",
       "      <td>Suspenso</td>\n",
       "      <td>Construção do Edifício de Salas do Setor de Ci...</td>\n",
       "      <td>NaN</td>\n",
       "      <td>PCU</td>\n",
       "      <td>SRP</td>\n",
       "      <td>NaN</td>\n",
       "      <td>9.998.396,80</td>\n",
       "      <td>0,00</td>\n",
       "      <td>8.662.384,47</td>\n",
       "      <td>0,00</td>\n",
       "    </tr>\n",
       "    <tr>\n",
       "      <th>4</th>\n",
       "      <td>2014</td>\n",
       "      <td>Concorrência Pública</td>\n",
       "      <td>004/2014</td>\n",
       "      <td>041629/2013-64</td>\n",
       "      <td>Suspensa</td>\n",
       "      <td>Construção - Edificação - Bloco Setor de Ciênc...</td>\n",
       "      <td>NaN</td>\n",
       "      <td>PCU</td>\n",
       "      <td>SRP</td>\n",
       "      <td>NaN</td>\n",
       "      <td>0,00</td>\n",
       "      <td>0,00</td>\n",
       "      <td>0,00</td>\n",
       "      <td>0,00</td>\n",
       "    </tr>\n",
       "  </tbody>\n",
       "</table>\n",
       "</div>"
      ],
      "text/plain": [
       "    Ano Modalidade de Licitação Número/Ano        Processo      Situação  \\\n",
       "0  2014         Chamada Pública   001/2014  023625/2014-85  Em Andamento   \n",
       "1  2014    Concorrência Pública   001/2014  047629/2013-78    Fracassado   \n",
       "2  2014    Concorrência Pública   002/2014  048559/2013-75    Fracassado   \n",
       "3  2014    Concorrência Pública   003/2014  052161/2013-33      Suspenso   \n",
       "4  2014    Concorrência Pública   004/2014  041629/2013-64      Suspensa   \n",
       "\n",
       "                                              Objeto Natureza do Objeto  \\\n",
       "0  Realização de Eventos (propriedade industrial)...                NaN   \n",
       "1  Concessão de uso de espaço físico, cantina do ...                NaN   \n",
       "2  Concessão de uso de espaço para funcionamento ...                NaN   \n",
       "3  Construção do Edifício de Salas do Setor de Ci...                NaN   \n",
       "4  Construção - Edificação - Bloco Setor de Ciênc...                NaN   \n",
       "\n",
       "  Demandante Modalidade de Compra Homologação (mês) Valor Estimado UFPR  \\\n",
       "0     AGITEC                  NaN               NaN                0,00   \n",
       "1       SEPT                  NaN               NaN                0,00   \n",
       "2      SACOD             Contrato               NaN                0,00   \n",
       "3        PCU                  SRP               NaN        9.998.396,80   \n",
       "4        PCU                  SRP               NaN                0,00   \n",
       "\n",
       "  Valor Estimado Outros Órgãos Valor Contratado UFPR  \\\n",
       "0                         0,00                  0,00   \n",
       "1                         0,00                  0,00   \n",
       "2                         0,00                  0,00   \n",
       "3                         0,00          8.662.384,47   \n",
       "4                         0,00                  0,00   \n",
       "\n",
       "  Valor Contratado Outros Órgãos  \n",
       "0                           0,00  \n",
       "1                           0,00  \n",
       "2                           0,00  \n",
       "3                           0,00  \n",
       "4                           0,00  "
      ]
     },
     "execution_count": 123,
     "metadata": {},
     "output_type": "execute_result"
    }
   ],
   "source": [
    "dados.head()"
   ]
  },
  {
   "cell_type": "markdown",
   "id": "de286488",
   "metadata": {},
   "source": [
    "## Tratando os dados (limpeza e organização)"
   ]
  },
  {
   "cell_type": "code",
   "execution_count": 124,
   "id": "9db2968d",
   "metadata": {},
   "outputs": [
    {
     "data": {
      "text/plain": [
       "'R$ 10000000,00'"
      ]
     },
     "execution_count": 124,
     "metadata": {},
     "output_type": "execute_result"
    }
   ],
   "source": [
    "locale.currency(10000000)"
   ]
  },
  {
   "cell_type": "markdown",
   "id": "a6e754eb",
   "metadata": {},
   "source": [
    "### Alterando tipo dos valores"
   ]
  },
  {
   "cell_type": "code",
   "execution_count": 125,
   "id": "fba6377e",
   "metadata": {
    "scrolled": false
   },
   "outputs": [
    {
     "data": {
      "text/html": [
       "<div>\n",
       "<style scoped>\n",
       "    .dataframe tbody tr th:only-of-type {\n",
       "        vertical-align: middle;\n",
       "    }\n",
       "\n",
       "    .dataframe tbody tr th {\n",
       "        vertical-align: top;\n",
       "    }\n",
       "\n",
       "    .dataframe thead th {\n",
       "        text-align: right;\n",
       "    }\n",
       "</style>\n",
       "<table border=\"1\" class=\"dataframe\">\n",
       "  <thead>\n",
       "    <tr style=\"text-align: right;\">\n",
       "      <th></th>\n",
       "      <th>Ano</th>\n",
       "      <th>Modalidade de Licitação</th>\n",
       "      <th>Número/Ano</th>\n",
       "      <th>Processo</th>\n",
       "      <th>Situação</th>\n",
       "      <th>Objeto</th>\n",
       "      <th>Natureza do Objeto</th>\n",
       "      <th>Demandante</th>\n",
       "      <th>Modalidade de Compra</th>\n",
       "      <th>Homologação (mês)</th>\n",
       "      <th>Valor Estimado UFPR</th>\n",
       "      <th>Valor Estimado Outros Órgãos</th>\n",
       "      <th>Valor Contratado UFPR</th>\n",
       "      <th>Valor Contratado Outros Órgãos</th>\n",
       "    </tr>\n",
       "  </thead>\n",
       "  <tbody>\n",
       "    <tr>\n",
       "      <th>10</th>\n",
       "      <td>2014</td>\n",
       "      <td>Concorrência Pública</td>\n",
       "      <td>010/2014</td>\n",
       "      <td>029550/2013-65</td>\n",
       "      <td>Aguarda Abertura</td>\n",
       "      <td>Concessão de espaço físico situado nas dependê...</td>\n",
       "      <td>NaN</td>\n",
       "      <td>SACOD</td>\n",
       "      <td>NaN</td>\n",
       "      <td>NaN</td>\n",
       "      <td>0.00</td>\n",
       "      <td>0.0</td>\n",
       "      <td>0.0</td>\n",
       "      <td>0.0</td>\n",
       "    </tr>\n",
       "    <tr>\n",
       "      <th>11</th>\n",
       "      <td>2014</td>\n",
       "      <td>Concorrência Pública</td>\n",
       "      <td>011/2014</td>\n",
       "      <td>025998/2014-91</td>\n",
       "      <td>Fase interna</td>\n",
       "      <td>Concessão de espaço físico situado no Setor Pa...</td>\n",
       "      <td>NaN</td>\n",
       "      <td>Palotina</td>\n",
       "      <td>NaN</td>\n",
       "      <td>NaN</td>\n",
       "      <td>0.00</td>\n",
       "      <td>0.0</td>\n",
       "      <td>0.0</td>\n",
       "      <td>0.0</td>\n",
       "    </tr>\n",
       "    <tr>\n",
       "      <th>12</th>\n",
       "      <td>2014</td>\n",
       "      <td>Pregão Eletrônico</td>\n",
       "      <td>018/2014</td>\n",
       "      <td>01.392/2014-60</td>\n",
       "      <td>Homologado</td>\n",
       "      <td>Aquisição de materiais hidráulicos para manute...</td>\n",
       "      <td>material</td>\n",
       "      <td>PCU</td>\n",
       "      <td>NaN</td>\n",
       "      <td>NaN</td>\n",
       "      <td>286235.50</td>\n",
       "      <td>0.0</td>\n",
       "      <td>280600.2</td>\n",
       "      <td>0.0</td>\n",
       "    </tr>\n",
       "    <tr>\n",
       "      <th>13</th>\n",
       "      <td>2014</td>\n",
       "      <td>Pregão Eletrônico</td>\n",
       "      <td>002/2014</td>\n",
       "      <td>54.855/2013-13</td>\n",
       "      <td>Homologado</td>\n",
       "      <td>Contratação de serviços de fornecimento de ref...</td>\n",
       "      <td>Serviço</td>\n",
       "      <td>RU</td>\n",
       "      <td>Contrato</td>\n",
       "      <td>NaN</td>\n",
       "      <td>1753056.00</td>\n",
       "      <td>0.0</td>\n",
       "      <td>1731024.0</td>\n",
       "      <td>0.0</td>\n",
       "    </tr>\n",
       "    <tr>\n",
       "      <th>14</th>\n",
       "      <td>2014</td>\n",
       "      <td>Pregão Eletrônico</td>\n",
       "      <td>003/2014</td>\n",
       "      <td>49.208/2013-81</td>\n",
       "      <td>Homologado</td>\n",
       "      <td>Aquisição de embalagens de plástico</td>\n",
       "      <td>Material</td>\n",
       "      <td>RU</td>\n",
       "      <td>SRP</td>\n",
       "      <td>NaN</td>\n",
       "      <td>62902.02</td>\n",
       "      <td>0.0</td>\n",
       "      <td>42631.0</td>\n",
       "      <td>0.0</td>\n",
       "    </tr>\n",
       "  </tbody>\n",
       "</table>\n",
       "</div>"
      ],
      "text/plain": [
       "     Ano Modalidade de Licitação Número/Ano        Processo          Situação  \\\n",
       "10  2014    Concorrência Pública   010/2014  029550/2013-65  Aguarda Abertura   \n",
       "11  2014    Concorrência Pública   011/2014  025998/2014-91      Fase interna   \n",
       "12  2014       Pregão Eletrônico   018/2014  01.392/2014-60        Homologado   \n",
       "13  2014       Pregão Eletrônico   002/2014  54.855/2013-13        Homologado   \n",
       "14  2014       Pregão Eletrônico   003/2014  49.208/2013-81        Homologado   \n",
       "\n",
       "                                               Objeto Natureza do Objeto  \\\n",
       "10  Concessão de espaço físico situado nas dependê...                NaN   \n",
       "11  Concessão de espaço físico situado no Setor Pa...                NaN   \n",
       "12  Aquisição de materiais hidráulicos para manute...           material   \n",
       "13  Contratação de serviços de fornecimento de ref...            Serviço   \n",
       "14                Aquisição de embalagens de plástico           Material   \n",
       "\n",
       "   Demandante Modalidade de Compra Homologação (mês)  Valor Estimado UFPR  \\\n",
       "10      SACOD                  NaN               NaN                 0.00   \n",
       "11   Palotina                  NaN               NaN                 0.00   \n",
       "12        PCU                  NaN               NaN            286235.50   \n",
       "13         RU             Contrato               NaN           1753056.00   \n",
       "14         RU                  SRP               NaN             62902.02   \n",
       "\n",
       "    Valor Estimado Outros Órgãos  Valor Contratado UFPR  \\\n",
       "10                           0.0                    0.0   \n",
       "11                           0.0                    0.0   \n",
       "12                           0.0               280600.2   \n",
       "13                           0.0              1731024.0   \n",
       "14                           0.0                42631.0   \n",
       "\n",
       "    Valor Contratado Outros Órgãos  \n",
       "10                             0.0  \n",
       "11                             0.0  \n",
       "12                             0.0  \n",
       "13                             0.0  \n",
       "14                             0.0  "
      ]
     },
     "execution_count": 125,
     "metadata": {},
     "output_type": "execute_result"
    }
   ],
   "source": [
    "correcaoValor = list(dados.columns[10:14])\n",
    "\n",
    "for v in correcaoValor:\n",
    "    dados[v] = dados[v].apply(lambda x: str(x).replace('.',''))\n",
    "    dados[v] = dados[v].apply(lambda x: str(x).replace(',','.'))\n",
    "    dados[v] = dados[v].apply(lambda x: x.replace(x, '0') if x.isalpha() else x)\n",
    "    dados[v].fillna(0)\n",
    "    dados[v] = pd.to_numeric(dados[v])\n",
    "dados[10:15]"
   ]
  },
  {
   "cell_type": "markdown",
   "id": "fb292648",
   "metadata": {},
   "source": [
    "### Retirando os valores nulos"
   ]
  },
  {
   "cell_type": "code",
   "execution_count": 126,
   "id": "d051d854",
   "metadata": {},
   "outputs": [],
   "source": [
    "si = 'Sem Informação'\n",
    "dados.fillna({'Natureza do Objeto': si, 'Modalidade de Compra': si, 'Valor Estimado UFPR': 0}, inplace = True)"
   ]
  },
  {
   "cell_type": "code",
   "execution_count": 127,
   "id": "db4f5c06",
   "metadata": {
    "scrolled": false
   },
   "outputs": [
    {
     "name": "stdout",
     "output_type": "stream",
     "text": [
      "<class 'pandas.core.frame.DataFrame'>\n",
      "RangeIndex: 1360 entries, 0 to 1359\n",
      "Data columns (total 14 columns):\n",
      " #   Column                          Non-Null Count  Dtype  \n",
      "---  ------                          --------------  -----  \n",
      " 0   Ano                             1360 non-null   int64  \n",
      " 1   Modalidade de Licitação         1360 non-null   object \n",
      " 2   Número/Ano                      1360 non-null   object \n",
      " 3   Processo                        1360 non-null   object \n",
      " 4   Situação                        1360 non-null   object \n",
      " 5   Objeto                          1360 non-null   object \n",
      " 6   Natureza do Objeto              1360 non-null   object \n",
      " 7   Demandante                      1360 non-null   object \n",
      " 8   Modalidade de Compra            1360 non-null   object \n",
      " 9   Homologação (mês)               816 non-null    object \n",
      " 10  Valor Estimado UFPR             1360 non-null   float64\n",
      " 11  Valor Estimado Outros Órgãos    1360 non-null   float64\n",
      " 12  Valor Contratado UFPR           1360 non-null   float64\n",
      " 13  Valor Contratado Outros Órgãos  1360 non-null   float64\n",
      "dtypes: float64(4), int64(1), object(9)\n",
      "memory usage: 148.9+ KB\n"
     ]
    }
   ],
   "source": [
    "dados.info()"
   ]
  },
  {
   "cell_type": "markdown",
   "id": "25a90708",
   "metadata": {},
   "source": [
    "### Uniformizando coluna \"Situação\""
   ]
  },
  {
   "cell_type": "code",
   "execution_count": 128,
   "id": "686044e2",
   "metadata": {
    "scrolled": false
   },
   "outputs": [
    {
     "data": {
      "text/plain": [
       "Homologado                     1036\n",
       "Fase Interna                     76\n",
       "Fracassado                       50\n",
       "Deserto                          36\n",
       "Verificação de conformidade      33\n",
       "Cancelado                        25\n",
       "Em Andamento                     13\n",
       "Revogado                         13\n",
       "Suspenso                          8\n",
       "homologado                        8\n",
       "Fase interna                      8\n",
       "Aguarda Abertura                  7\n",
       "Suspensa                          7\n",
       "Anulado                           6\n",
       "SUSPENSO                          6\n",
       "Elaboração do Edital              5\n",
       "Cancelada                         5\n",
       "Aceitação                         4\n",
       "IRP                               3\n",
       "Deserta                           3\n",
       "Parecer Jurídico                  2\n",
       "deserto                           2\n",
       "Anulada                           2\n",
       "Fracassada                        1\n",
       "cancelado na adjudicação          1\n",
       "Name: Situação, dtype: int64"
      ]
     },
     "execution_count": 128,
     "metadata": {},
     "output_type": "execute_result"
    }
   ],
   "source": [
    "sit = dados['Situação'].value_counts()\n",
    "sit"
   ]
  },
  {
   "cell_type": "code",
   "execution_count": 129,
   "id": "105b265c",
   "metadata": {},
   "outputs": [],
   "source": [
    "situacoes = ['Anulado', 'Suspenso', 'Fase Interna', 'Deserto', 'Homologado', 'Fracassado', 'Cancelado']\n",
    "correcao = [['Anulada', 'anulada', 'anulado'], ['Suspensa', 'suspensa', 'suspenso', 'SUSPENSO'],\n",
    "            ['Fase interna'], ['Deserta', 'deserto'], ['Homologada', 'homologado', 'homologada'],\n",
    "            ['Fracassada'], ['cancelado na adjudicação', 'Cancelada']]\n",
    "\n",
    "for z in range(len(situacoes)):\n",
    "    dados['Situação'] = dados['Situação'].apply(lambda x: situacoes[z] if x in correcao[z] else x)"
   ]
  },
  {
   "cell_type": "code",
   "execution_count": 130,
   "id": "7956e427",
   "metadata": {
    "scrolled": false
   },
   "outputs": [
    {
     "data": {
      "text/plain": [
       "Homologado                     1044\n",
       "Fase Interna                     84\n",
       "Fracassado                       51\n",
       "Deserto                          41\n",
       "Verificação de conformidade      33\n",
       "Cancelado                        31\n",
       "Suspenso                         21\n",
       "Revogado                         13\n",
       "Em Andamento                     13\n",
       "Anulado                           8\n",
       "Aguarda Abertura                  7\n",
       "Elaboração do Edital              5\n",
       "Aceitação                         4\n",
       "IRP                               3\n",
       "Parecer Jurídico                  2\n",
       "Name: Situação, dtype: int64"
      ]
     },
     "execution_count": 130,
     "metadata": {},
     "output_type": "execute_result"
    }
   ],
   "source": [
    "sit = dados['Situação'].value_counts()\n",
    "sit"
   ]
  },
  {
   "cell_type": "markdown",
   "id": "cf62c456",
   "metadata": {},
   "source": [
    "### Alterando nomes das colunas"
   ]
  },
  {
   "cell_type": "code",
   "execution_count": 131,
   "id": "73a8b9a5",
   "metadata": {
    "scrolled": true
   },
   "outputs": [
    {
     "data": {
      "text/plain": [
       "Index(['Ano', 'Modalidade de Licitação', 'Número/Ano', 'Processo', 'Situação',\n",
       "       'Objeto', 'Natureza do Objeto', 'Demandante', 'Modalidade de Compra',\n",
       "       'Homologação (mês)', 'Valor Estimado UFPR',\n",
       "       'Valor Estimado Outros Órgãos', 'Valor Contratado UFPR',\n",
       "       'Valor Contratado Outros Órgãos'],\n",
       "      dtype='object')"
      ]
     },
     "execution_count": 131,
     "metadata": {},
     "output_type": "execute_result"
    }
   ],
   "source": [
    "dados.columns"
   ]
  },
  {
   "cell_type": "code",
   "execution_count": 132,
   "id": "2366b523",
   "metadata": {},
   "outputs": [],
   "source": [
    "dados.rename(columns = {'Ano' : 'ano', \n",
    "                'Modalidade de Licitação' : 'modalidade',\n",
    "                'Número/Ano' : 'numero_ano',\n",
    "                'Processo' : 'processo',\n",
    "                'Situação' : 'situacao',\n",
    "                'Objeto' : 'objeto',\n",
    "                'Natureza do Objeto' : 'natureza',\n",
    "                'Demandante' : 'demandante',\n",
    "                'Modalidade de Compra' : 'modalidade_compra',\n",
    "                'Homologação (mês)' : 'homologacao_mes',\n",
    "                'Valor Estimado UFPR' : 'valor_estimado_ufpr',\n",
    "                'Valor Estimado Outros Órgãos' : 'valor_estimado_outros',\n",
    "                'Valor Contratado UFPR' : 'valor_contratado_ufpr',\n",
    "                'Valor Contratado Outros Órgãos': 'valor_contratado_outros'}, inplace=True)"
   ]
  },
  {
   "cell_type": "code",
   "execution_count": 133,
   "id": "b9bbc936",
   "metadata": {
    "scrolled": false
   },
   "outputs": [
    {
     "data": {
      "text/html": [
       "<div>\n",
       "<style scoped>\n",
       "    .dataframe tbody tr th:only-of-type {\n",
       "        vertical-align: middle;\n",
       "    }\n",
       "\n",
       "    .dataframe tbody tr th {\n",
       "        vertical-align: top;\n",
       "    }\n",
       "\n",
       "    .dataframe thead th {\n",
       "        text-align: right;\n",
       "    }\n",
       "</style>\n",
       "<table border=\"1\" class=\"dataframe\">\n",
       "  <thead>\n",
       "    <tr style=\"text-align: right;\">\n",
       "      <th></th>\n",
       "      <th>ano</th>\n",
       "      <th>modalidade</th>\n",
       "      <th>numero_ano</th>\n",
       "      <th>processo</th>\n",
       "      <th>situacao</th>\n",
       "      <th>objeto</th>\n",
       "      <th>natureza</th>\n",
       "      <th>demandante</th>\n",
       "      <th>modalidade_compra</th>\n",
       "      <th>homologacao_mes</th>\n",
       "      <th>valor_estimado_ufpr</th>\n",
       "      <th>valor_estimado_outros</th>\n",
       "      <th>valor_contratado_ufpr</th>\n",
       "      <th>valor_contratado_outros</th>\n",
       "    </tr>\n",
       "  </thead>\n",
       "  <tbody>\n",
       "    <tr>\n",
       "      <th>0</th>\n",
       "      <td>2014</td>\n",
       "      <td>Chamada Pública</td>\n",
       "      <td>001/2014</td>\n",
       "      <td>023625/2014-85</td>\n",
       "      <td>Em Andamento</td>\n",
       "      <td>Realização de Eventos (propriedade industrial)...</td>\n",
       "      <td>Sem Informação</td>\n",
       "      <td>AGITEC</td>\n",
       "      <td>Sem Informação</td>\n",
       "      <td>NaN</td>\n",
       "      <td>0.0</td>\n",
       "      <td>0.0</td>\n",
       "      <td>0.00</td>\n",
       "      <td>0.0</td>\n",
       "    </tr>\n",
       "    <tr>\n",
       "      <th>1</th>\n",
       "      <td>2014</td>\n",
       "      <td>Concorrência Pública</td>\n",
       "      <td>001/2014</td>\n",
       "      <td>047629/2013-78</td>\n",
       "      <td>Fracassado</td>\n",
       "      <td>Concessão de uso de espaço físico, cantina do ...</td>\n",
       "      <td>Sem Informação</td>\n",
       "      <td>SEPT</td>\n",
       "      <td>Sem Informação</td>\n",
       "      <td>NaN</td>\n",
       "      <td>0.0</td>\n",
       "      <td>0.0</td>\n",
       "      <td>0.00</td>\n",
       "      <td>0.0</td>\n",
       "    </tr>\n",
       "    <tr>\n",
       "      <th>2</th>\n",
       "      <td>2014</td>\n",
       "      <td>Concorrência Pública</td>\n",
       "      <td>002/2014</td>\n",
       "      <td>048559/2013-75</td>\n",
       "      <td>Fracassado</td>\n",
       "      <td>Concessão de uso de espaço para funcionamento ...</td>\n",
       "      <td>Sem Informação</td>\n",
       "      <td>SACOD</td>\n",
       "      <td>Contrato</td>\n",
       "      <td>NaN</td>\n",
       "      <td>0.0</td>\n",
       "      <td>0.0</td>\n",
       "      <td>0.00</td>\n",
       "      <td>0.0</td>\n",
       "    </tr>\n",
       "    <tr>\n",
       "      <th>3</th>\n",
       "      <td>2014</td>\n",
       "      <td>Concorrência Pública</td>\n",
       "      <td>003/2014</td>\n",
       "      <td>052161/2013-33</td>\n",
       "      <td>Suspenso</td>\n",
       "      <td>Construção do Edifício de Salas do Setor de Ci...</td>\n",
       "      <td>Sem Informação</td>\n",
       "      <td>PCU</td>\n",
       "      <td>SRP</td>\n",
       "      <td>NaN</td>\n",
       "      <td>9998396.8</td>\n",
       "      <td>0.0</td>\n",
       "      <td>8662384.47</td>\n",
       "      <td>0.0</td>\n",
       "    </tr>\n",
       "    <tr>\n",
       "      <th>4</th>\n",
       "      <td>2014</td>\n",
       "      <td>Concorrência Pública</td>\n",
       "      <td>004/2014</td>\n",
       "      <td>041629/2013-64</td>\n",
       "      <td>Suspenso</td>\n",
       "      <td>Construção - Edificação - Bloco Setor de Ciênc...</td>\n",
       "      <td>Sem Informação</td>\n",
       "      <td>PCU</td>\n",
       "      <td>SRP</td>\n",
       "      <td>NaN</td>\n",
       "      <td>0.0</td>\n",
       "      <td>0.0</td>\n",
       "      <td>0.00</td>\n",
       "      <td>0.0</td>\n",
       "    </tr>\n",
       "  </tbody>\n",
       "</table>\n",
       "</div>"
      ],
      "text/plain": [
       "    ano            modalidade numero_ano        processo      situacao  \\\n",
       "0  2014       Chamada Pública   001/2014  023625/2014-85  Em Andamento   \n",
       "1  2014  Concorrência Pública   001/2014  047629/2013-78    Fracassado   \n",
       "2  2014  Concorrência Pública   002/2014  048559/2013-75    Fracassado   \n",
       "3  2014  Concorrência Pública   003/2014  052161/2013-33      Suspenso   \n",
       "4  2014  Concorrência Pública   004/2014  041629/2013-64      Suspenso   \n",
       "\n",
       "                                              objeto        natureza  \\\n",
       "0  Realização de Eventos (propriedade industrial)...  Sem Informação   \n",
       "1  Concessão de uso de espaço físico, cantina do ...  Sem Informação   \n",
       "2  Concessão de uso de espaço para funcionamento ...  Sem Informação   \n",
       "3  Construção do Edifício de Salas do Setor de Ci...  Sem Informação   \n",
       "4  Construção - Edificação - Bloco Setor de Ciênc...  Sem Informação   \n",
       "\n",
       "  demandante modalidade_compra homologacao_mes  valor_estimado_ufpr  \\\n",
       "0     AGITEC    Sem Informação             NaN                  0.0   \n",
       "1       SEPT    Sem Informação             NaN                  0.0   \n",
       "2      SACOD          Contrato             NaN                  0.0   \n",
       "3        PCU               SRP             NaN            9998396.8   \n",
       "4        PCU               SRP             NaN                  0.0   \n",
       "\n",
       "   valor_estimado_outros  valor_contratado_ufpr  valor_contratado_outros  \n",
       "0                    0.0                   0.00                      0.0  \n",
       "1                    0.0                   0.00                      0.0  \n",
       "2                    0.0                   0.00                      0.0  \n",
       "3                    0.0             8662384.47                      0.0  \n",
       "4                    0.0                   0.00                      0.0  "
      ]
     },
     "execution_count": 133,
     "metadata": {},
     "output_type": "execute_result"
    }
   ],
   "source": [
    "dados.head()"
   ]
  },
  {
   "cell_type": "markdown",
   "id": "b0e1a896",
   "metadata": {},
   "source": [
    "### Retirando homologações de 2021 e alterando tipo data"
   ]
  },
  {
   "cell_type": "code",
   "execution_count": 134,
   "id": "7e23ee69",
   "metadata": {},
   "outputs": [
    {
     "data": {
      "text/plain": [
       "array([nan, 'Março', 'Fevereiro', 'Abril', 'Maio', 'Junho', 'Agosto',\n",
       "       'Julho', 'Setembro', 'Novembro', 'Outubro', 'Dezembro', 'Janeiro',\n",
       "       'Janeiro / 21', 'Fevereiro - 2021', 'Março de 2021',\n",
       "       'Janeiro /2021'], dtype=object)"
      ]
     },
     "execution_count": 134,
     "metadata": {},
     "output_type": "execute_result"
    }
   ],
   "source": [
    "dados.homologacao_mes = dados.homologacao_mes.str.capitalize()\n",
    "dados.homologacao_mes.unique()"
   ]
  },
  {
   "cell_type": "code",
   "execution_count": 135,
   "id": "41db9bf8",
   "metadata": {},
   "outputs": [],
   "source": [
    "for x in dados.homologacao_mes:\n",
    "    if '21' in str(x):\n",
    "        i = dados[dados.homologacao_mes == x].index\n",
    "        dados.drop(i, inplace=True)"
   ]
  },
  {
   "cell_type": "code",
   "execution_count": 136,
   "id": "f6e219f2",
   "metadata": {
    "scrolled": true
   },
   "outputs": [
    {
     "data": {
      "text/plain": [
       "array([nan, 'Março', 'Fevereiro', 'Abril', 'Maio', 'Junho', 'Agosto',\n",
       "       'Julho', 'Setembro', 'Novembro', 'Outubro', 'Dezembro', 'Janeiro'],\n",
       "      dtype=object)"
      ]
     },
     "execution_count": 136,
     "metadata": {},
     "output_type": "execute_result"
    }
   ],
   "source": [
    "dados.homologacao_mes.unique()"
   ]
  },
  {
   "cell_type": "code",
   "execution_count": 137,
   "id": "d9cb3ab4",
   "metadata": {},
   "outputs": [],
   "source": [
    "meses = {'Março':3, 'Fevereiro':2, 'Abril':4, 'Maio':5, 'Junho':6, 'Agosto':8,\n",
    "       'Julho':7, 'Setembro':9, 'Novembro':11, 'Outubro':10, 'Dezembro':12, 'Janeiro':1}\n",
    "dados.homologacao_mes = dados.homologacao_mes.map(meses).convert_dtypes(convert_integer=True)"
   ]
  },
  {
   "cell_type": "code",
   "execution_count": 138,
   "id": "05275fa0",
   "metadata": {},
   "outputs": [],
   "source": [
    "dados['homologacao_mes_ano'] = dados['homologacao_mes'].astype(str) + '/' + dados['ano'].astype(str)"
   ]
  },
  {
   "cell_type": "markdown",
   "id": "f88b8aa5",
   "metadata": {},
   "source": [
    "### Uniformizando a coluna natureza"
   ]
  },
  {
   "cell_type": "code",
   "execution_count": 141,
   "id": "cda3a3de",
   "metadata": {},
   "outputs": [],
   "source": [
    "natureza = ['Materiais', 'Serviço', 'Materiais e Serviço']\n",
    "correcao = [['material', 'materiais', 'Material ', 'Material'],\n",
    "            ['serviço', 'Serviço ', 'Serviços '],\n",
    "            ['Serviço e Material', 'material e serviço', 'material/serviço', 'Material/Serviços', 'Material/Serviço', 'Serviço/material']]\n",
    "\n",
    "for z in range(len(natureza)):\n",
    "    dados.natureza = dados.natureza.apply(lambda x: natureza[z] if x in correcao[z] else x)"
   ]
  },
  {
   "cell_type": "code",
   "execution_count": 142,
   "id": "f4808f90",
   "metadata": {},
   "outputs": [
    {
     "data": {
      "text/plain": [
       "array(['Sem Informação', 'Materiais', 'Serviço', 'Materiais e Serviço',\n",
       "       'Material e Mão de Obra', 'Equipamento'], dtype=object)"
      ]
     },
     "execution_count": 142,
     "metadata": {},
     "output_type": "execute_result"
    }
   ],
   "source": [
    "dados.natureza.unique()"
   ]
  },
  {
   "cell_type": "markdown",
   "id": "99c134e2",
   "metadata": {},
   "source": [
    "### Reindexando os registros"
   ]
  },
  {
   "cell_type": "code",
   "execution_count": 143,
   "id": "a9ba77ac",
   "metadata": {
    "scrolled": false
   },
   "outputs": [],
   "source": [
    "dados.index = range(0,len(dados))"
   ]
  },
  {
   "cell_type": "code",
   "execution_count": 144,
   "id": "980a35a2",
   "metadata": {},
   "outputs": [
    {
     "data": {
      "text/html": [
       "<div>\n",
       "<style scoped>\n",
       "    .dataframe tbody tr th:only-of-type {\n",
       "        vertical-align: middle;\n",
       "    }\n",
       "\n",
       "    .dataframe tbody tr th {\n",
       "        vertical-align: top;\n",
       "    }\n",
       "\n",
       "    .dataframe thead th {\n",
       "        text-align: right;\n",
       "    }\n",
       "</style>\n",
       "<table border=\"1\" class=\"dataframe\">\n",
       "  <thead>\n",
       "    <tr style=\"text-align: right;\">\n",
       "      <th></th>\n",
       "      <th>ano</th>\n",
       "      <th>modalidade</th>\n",
       "      <th>numero_ano</th>\n",
       "      <th>processo</th>\n",
       "      <th>situacao</th>\n",
       "      <th>objeto</th>\n",
       "      <th>natureza</th>\n",
       "      <th>demandante</th>\n",
       "      <th>modalidade_compra</th>\n",
       "      <th>homologacao_mes</th>\n",
       "      <th>valor_estimado_ufpr</th>\n",
       "      <th>valor_estimado_outros</th>\n",
       "      <th>valor_contratado_ufpr</th>\n",
       "      <th>valor_contratado_outros</th>\n",
       "      <th>homologacao_mes_ano</th>\n",
       "    </tr>\n",
       "  </thead>\n",
       "  <tbody>\n",
       "    <tr>\n",
       "      <th>0</th>\n",
       "      <td>2014</td>\n",
       "      <td>Chamada Pública</td>\n",
       "      <td>001/2014</td>\n",
       "      <td>023625/2014-85</td>\n",
       "      <td>Em Andamento</td>\n",
       "      <td>Realização de Eventos (propriedade industrial)...</td>\n",
       "      <td>Sem Informação</td>\n",
       "      <td>AGITEC</td>\n",
       "      <td>Sem Informação</td>\n",
       "      <td>&lt;NA&gt;</td>\n",
       "      <td>0.00</td>\n",
       "      <td>0.0</td>\n",
       "      <td>0.00</td>\n",
       "      <td>0.0</td>\n",
       "      <td>NaT</td>\n",
       "    </tr>\n",
       "    <tr>\n",
       "      <th>1</th>\n",
       "      <td>2014</td>\n",
       "      <td>Concorrência Pública</td>\n",
       "      <td>001/2014</td>\n",
       "      <td>047629/2013-78</td>\n",
       "      <td>Fracassado</td>\n",
       "      <td>Concessão de uso de espaço físico, cantina do ...</td>\n",
       "      <td>Sem Informação</td>\n",
       "      <td>SEPT</td>\n",
       "      <td>Sem Informação</td>\n",
       "      <td>&lt;NA&gt;</td>\n",
       "      <td>0.00</td>\n",
       "      <td>0.0</td>\n",
       "      <td>0.00</td>\n",
       "      <td>0.0</td>\n",
       "      <td>NaT</td>\n",
       "    </tr>\n",
       "    <tr>\n",
       "      <th>2</th>\n",
       "      <td>2014</td>\n",
       "      <td>Concorrência Pública</td>\n",
       "      <td>002/2014</td>\n",
       "      <td>048559/2013-75</td>\n",
       "      <td>Fracassado</td>\n",
       "      <td>Concessão de uso de espaço para funcionamento ...</td>\n",
       "      <td>Sem Informação</td>\n",
       "      <td>SACOD</td>\n",
       "      <td>Contrato</td>\n",
       "      <td>&lt;NA&gt;</td>\n",
       "      <td>0.00</td>\n",
       "      <td>0.0</td>\n",
       "      <td>0.00</td>\n",
       "      <td>0.0</td>\n",
       "      <td>NaT</td>\n",
       "    </tr>\n",
       "    <tr>\n",
       "      <th>3</th>\n",
       "      <td>2014</td>\n",
       "      <td>Concorrência Pública</td>\n",
       "      <td>003/2014</td>\n",
       "      <td>052161/2013-33</td>\n",
       "      <td>Suspenso</td>\n",
       "      <td>Construção do Edifício de Salas do Setor de Ci...</td>\n",
       "      <td>Sem Informação</td>\n",
       "      <td>PCU</td>\n",
       "      <td>SRP</td>\n",
       "      <td>&lt;NA&gt;</td>\n",
       "      <td>9998396.80</td>\n",
       "      <td>0.0</td>\n",
       "      <td>8662384.47</td>\n",
       "      <td>0.0</td>\n",
       "      <td>NaT</td>\n",
       "    </tr>\n",
       "    <tr>\n",
       "      <th>4</th>\n",
       "      <td>2014</td>\n",
       "      <td>Concorrência Pública</td>\n",
       "      <td>004/2014</td>\n",
       "      <td>041629/2013-64</td>\n",
       "      <td>Suspenso</td>\n",
       "      <td>Construção - Edificação - Bloco Setor de Ciênc...</td>\n",
       "      <td>Sem Informação</td>\n",
       "      <td>PCU</td>\n",
       "      <td>SRP</td>\n",
       "      <td>&lt;NA&gt;</td>\n",
       "      <td>0.00</td>\n",
       "      <td>0.0</td>\n",
       "      <td>0.00</td>\n",
       "      <td>0.0</td>\n",
       "      <td>NaT</td>\n",
       "    </tr>\n",
       "    <tr>\n",
       "      <th>...</th>\n",
       "      <td>...</td>\n",
       "      <td>...</td>\n",
       "      <td>...</td>\n",
       "      <td>...</td>\n",
       "      <td>...</td>\n",
       "      <td>...</td>\n",
       "      <td>...</td>\n",
       "      <td>...</td>\n",
       "      <td>...</td>\n",
       "      <td>...</td>\n",
       "      <td>...</td>\n",
       "      <td>...</td>\n",
       "      <td>...</td>\n",
       "      <td>...</td>\n",
       "      <td>...</td>\n",
       "    </tr>\n",
       "    <tr>\n",
       "      <th>1350</th>\n",
       "      <td>2020</td>\n",
       "      <td>Regime Diferenciado de Contratação</td>\n",
       "      <td>011/2020</td>\n",
       "      <td>006361/2019-18</td>\n",
       "      <td>Homologado</td>\n",
       "      <td>Contratação de empresa de arquitetura ou engen...</td>\n",
       "      <td>Sem Informação</td>\n",
       "      <td>SUINFRA</td>\n",
       "      <td>Sem Informação</td>\n",
       "      <td>&lt;NA&gt;</td>\n",
       "      <td>385440.33</td>\n",
       "      <td>0.0</td>\n",
       "      <td>0.00</td>\n",
       "      <td>0.0</td>\n",
       "      <td>NaT</td>\n",
       "    </tr>\n",
       "    <tr>\n",
       "      <th>1351</th>\n",
       "      <td>2020</td>\n",
       "      <td>Regime Diferenciado de Contratação</td>\n",
       "      <td>012/2020</td>\n",
       "      <td>032662/2019-99</td>\n",
       "      <td>Homologado</td>\n",
       "      <td>Contratação de empresa de engenharia para a ex...</td>\n",
       "      <td>Sem Informação</td>\n",
       "      <td>SUINFRA</td>\n",
       "      <td>Sem Informação</td>\n",
       "      <td>12</td>\n",
       "      <td>92399.76</td>\n",
       "      <td>0.0</td>\n",
       "      <td>83159.78</td>\n",
       "      <td>0.0</td>\n",
       "      <td>2020-12-01</td>\n",
       "    </tr>\n",
       "    <tr>\n",
       "      <th>1352</th>\n",
       "      <td>2020</td>\n",
       "      <td>Regime Diferenciado de Contratação</td>\n",
       "      <td>013/2020</td>\n",
       "      <td>044949/2018-81</td>\n",
       "      <td>Homologado</td>\n",
       "      <td>Contratação de empresa de arquitetura ou engen...</td>\n",
       "      <td>Sem Informação</td>\n",
       "      <td>SUINFRA</td>\n",
       "      <td>Sem Informação</td>\n",
       "      <td>12</td>\n",
       "      <td>1938827.90</td>\n",
       "      <td>0.0</td>\n",
       "      <td>1839462.97</td>\n",
       "      <td>0.0</td>\n",
       "      <td>2020-12-01</td>\n",
       "    </tr>\n",
       "    <tr>\n",
       "      <th>1353</th>\n",
       "      <td>2020</td>\n",
       "      <td>Regime Diferenciado de Contratação</td>\n",
       "      <td>014/2020</td>\n",
       "      <td>053769/2020-12</td>\n",
       "      <td>Homologado</td>\n",
       "      <td>Contratação de empresa de arquitetura e/ou eng...</td>\n",
       "      <td>Sem Informação</td>\n",
       "      <td>SUINFRA</td>\n",
       "      <td>Sem Informação</td>\n",
       "      <td>12</td>\n",
       "      <td>457012.05</td>\n",
       "      <td>0.0</td>\n",
       "      <td>387999.57</td>\n",
       "      <td>0.0</td>\n",
       "      <td>2020-12-01</td>\n",
       "    </tr>\n",
       "    <tr>\n",
       "      <th>1354</th>\n",
       "      <td>2020</td>\n",
       "      <td>Regime Diferenciado de Contratação</td>\n",
       "      <td>015/2020</td>\n",
       "      <td>210830/2017-21</td>\n",
       "      <td>Homologado</td>\n",
       "      <td>Contratação de empresa de arquitetura ou engen...</td>\n",
       "      <td>Sem Informação</td>\n",
       "      <td>SUINFRA</td>\n",
       "      <td>Sem Informação</td>\n",
       "      <td>12</td>\n",
       "      <td>1202144.54</td>\n",
       "      <td>0.0</td>\n",
       "      <td>983788.20</td>\n",
       "      <td>0.0</td>\n",
       "      <td>2020-12-01</td>\n",
       "    </tr>\n",
       "  </tbody>\n",
       "</table>\n",
       "<p>1355 rows × 15 columns</p>\n",
       "</div>"
      ],
      "text/plain": [
       "       ano                          modalidade numero_ano        processo  \\\n",
       "0     2014                     Chamada Pública   001/2014  023625/2014-85   \n",
       "1     2014                Concorrência Pública   001/2014  047629/2013-78   \n",
       "2     2014                Concorrência Pública   002/2014  048559/2013-75   \n",
       "3     2014                Concorrência Pública   003/2014  052161/2013-33   \n",
       "4     2014                Concorrência Pública   004/2014  041629/2013-64   \n",
       "...    ...                                 ...        ...             ...   \n",
       "1350  2020  Regime Diferenciado de Contratação   011/2020  006361/2019-18   \n",
       "1351  2020  Regime Diferenciado de Contratação   012/2020  032662/2019-99   \n",
       "1352  2020  Regime Diferenciado de Contratação   013/2020  044949/2018-81   \n",
       "1353  2020  Regime Diferenciado de Contratação   014/2020  053769/2020-12   \n",
       "1354  2020  Regime Diferenciado de Contratação   015/2020  210830/2017-21   \n",
       "\n",
       "          situacao                                             objeto  \\\n",
       "0     Em Andamento  Realização de Eventos (propriedade industrial)...   \n",
       "1       Fracassado  Concessão de uso de espaço físico, cantina do ...   \n",
       "2       Fracassado  Concessão de uso de espaço para funcionamento ...   \n",
       "3         Suspenso  Construção do Edifício de Salas do Setor de Ci...   \n",
       "4         Suspenso  Construção - Edificação - Bloco Setor de Ciênc...   \n",
       "...            ...                                                ...   \n",
       "1350    Homologado  Contratação de empresa de arquitetura ou engen...   \n",
       "1351    Homologado  Contratação de empresa de engenharia para a ex...   \n",
       "1352    Homologado  Contratação de empresa de arquitetura ou engen...   \n",
       "1353    Homologado  Contratação de empresa de arquitetura e/ou eng...   \n",
       "1354    Homologado  Contratação de empresa de arquitetura ou engen...   \n",
       "\n",
       "            natureza demandante modalidade_compra  homologacao_mes  \\\n",
       "0     Sem Informação     AGITEC    Sem Informação             <NA>   \n",
       "1     Sem Informação       SEPT    Sem Informação             <NA>   \n",
       "2     Sem Informação      SACOD          Contrato             <NA>   \n",
       "3     Sem Informação        PCU               SRP             <NA>   \n",
       "4     Sem Informação        PCU               SRP             <NA>   \n",
       "...              ...        ...               ...              ...   \n",
       "1350  Sem Informação    SUINFRA    Sem Informação             <NA>   \n",
       "1351  Sem Informação    SUINFRA    Sem Informação               12   \n",
       "1352  Sem Informação    SUINFRA    Sem Informação               12   \n",
       "1353  Sem Informação    SUINFRA    Sem Informação               12   \n",
       "1354  Sem Informação    SUINFRA    Sem Informação               12   \n",
       "\n",
       "      valor_estimado_ufpr  valor_estimado_outros  valor_contratado_ufpr  \\\n",
       "0                    0.00                    0.0                   0.00   \n",
       "1                    0.00                    0.0                   0.00   \n",
       "2                    0.00                    0.0                   0.00   \n",
       "3              9998396.80                    0.0             8662384.47   \n",
       "4                    0.00                    0.0                   0.00   \n",
       "...                   ...                    ...                    ...   \n",
       "1350            385440.33                    0.0                   0.00   \n",
       "1351             92399.76                    0.0               83159.78   \n",
       "1352           1938827.90                    0.0             1839462.97   \n",
       "1353            457012.05                    0.0              387999.57   \n",
       "1354           1202144.54                    0.0              983788.20   \n",
       "\n",
       "      valor_contratado_outros homologacao_mes_ano  \n",
       "0                         0.0                 NaT  \n",
       "1                         0.0                 NaT  \n",
       "2                         0.0                 NaT  \n",
       "3                         0.0                 NaT  \n",
       "4                         0.0                 NaT  \n",
       "...                       ...                 ...  \n",
       "1350                      0.0                 NaT  \n",
       "1351                      0.0          2020-12-01  \n",
       "1352                      0.0          2020-12-01  \n",
       "1353                      0.0          2020-12-01  \n",
       "1354                      0.0          2020-12-01  \n",
       "\n",
       "[1355 rows x 15 columns]"
      ]
     },
     "execution_count": 144,
     "metadata": {},
     "output_type": "execute_result"
    }
   ],
   "source": [
    "dados"
   ]
  },
  {
   "cell_type": "markdown",
   "id": "acc3a7e7",
   "metadata": {},
   "source": [
    "## Exportando dados tratados"
   ]
  },
  {
   "cell_type": "code",
   "execution_count": 145,
   "id": "e92c0011",
   "metadata": {},
   "outputs": [],
   "source": [
    "dados.to_csv('dadosTratados.csv', sep = ';', index = False)"
   ]
  }
 ],
 "metadata": {
  "kernelspec": {
   "display_name": "Python 3",
   "language": "python",
   "name": "python3"
  },
  "language_info": {
   "codemirror_mode": {
    "name": "ipython",
    "version": 3
   },
   "file_extension": ".py",
   "mimetype": "text/x-python",
   "name": "python",
   "nbconvert_exporter": "python",
   "pygments_lexer": "ipython3",
   "version": "3.8.8"
  }
 },
 "nbformat": 4,
 "nbformat_minor": 5
}
